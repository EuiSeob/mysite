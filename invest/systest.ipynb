{
 "cells": [
  {
   "cell_type": "code",
   "execution_count": 1,
   "metadata": {},
   "outputs": [],
   "source": [
    "import sys"
   ]
  },
  {
   "cell_type": "code",
   "execution_count": 2,
   "metadata": {},
   "outputs": [
    {
     "data": {
      "text/plain": [
       "['c:/Users/nymphtop/anaconda3/python311.zip',\n",
       " 'c:/Users/nymphtop/anaconda3/DLLs',\n",
       " 'c:/Users/nymphtop/anaconda3/Lib',\n",
       " 'c:/Users/nymphtop/anaconda3',\n",
       " '',\n",
       " 'C:/Users/nymphtop/AppData/Roaming/Python/Python311/site-packages',\n",
       " 'c:/Users/nymphtop/anaconda3/Lib/site-packages',\n",
       " 'c:/Users/nymphtop/anaconda3/Lib/site-packages/win32',\n",
       " 'c:/Users/nymphtop/anaconda3/Lib/site-packages/win32/lib',\n",
       " 'c:/Users/nymphtop/anaconda3/Lib/site-packages/Pythonwin']"
      ]
     },
     "execution_count": 2,
     "metadata": {},
     "output_type": "execute_result"
    }
   ],
   "source": [
    "list(\n",
    "    map(\n",
    "        lambda x : x.replace('\\\\', '/'),\n",
    "        sys.path\n",
    "    )\n",
    ")"
   ]
  },
  {
   "cell_type": "code",
   "execution_count": null,
   "metadata": {},
   "outputs": [],
   "source": []
  }
 ],
 "metadata": {
  "kernelspec": {
   "display_name": "base",
   "language": "python",
   "name": "python3"
  },
  "language_info": {
   "codemirror_mode": {
    "name": "ipython",
    "version": 3
   },
   "file_extension": ".py",
   "mimetype": "text/x-python",
   "name": "python",
   "nbconvert_exporter": "python",
   "pygments_lexer": "ipython3",
   "version": "3.11.11"
  }
 },
 "nbformat": 4,
 "nbformat_minor": 2
}
