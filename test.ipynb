{
 "cells": [
  {
   "cell_type": "code",
   "execution_count": 10,
   "metadata": {},
   "outputs": [],
   "source": [
    "import pandas as pd\n",
    "import invest"
   ]
  },
  {
   "cell_type": "code",
   "execution_count": 11,
   "metadata": {},
   "outputs": [],
   "source": [
    "# 주식 코드와 시작 시간을 이용해서 데이터를 로드\n",
    "input_code = 'AAPL'\n",
    "input_time = '2020-01-01'"
   ]
  },
  {
   "cell_type": "code",
   "execution_count": 12,
   "metadata": {},
   "outputs": [],
   "source": [
    "# 데이터 로드\n",
    "df = invest.load_data(input_code, input_time)"
   ]
  },
  {
   "cell_type": "code",
   "execution_count": 13,
   "metadata": {},
   "outputs": [
    {
     "data": {
      "text/html": [
       "<div>\n",
       "<style scoped>\n",
       "    .dataframe tbody tr th:only-of-type {\n",
       "        vertical-align: middle;\n",
       "    }\n",
       "\n",
       "    .dataframe tbody tr th {\n",
       "        vertical-align: top;\n",
       "    }\n",
       "\n",
       "    .dataframe thead th {\n",
       "        text-align: right;\n",
       "    }\n",
       "</style>\n",
       "<table border=\"1\" class=\"dataframe\">\n",
       "  <thead>\n",
       "    <tr style=\"text-align: right;\">\n",
       "      <th></th>\n",
       "      <th>Open</th>\n",
       "      <th>High</th>\n",
       "      <th>Low</th>\n",
       "      <th>Close</th>\n",
       "      <th>Volume</th>\n",
       "      <th>Dividends</th>\n",
       "      <th>Stock Splits</th>\n",
       "    </tr>\n",
       "    <tr>\n",
       "      <th>Date</th>\n",
       "      <th></th>\n",
       "      <th></th>\n",
       "      <th></th>\n",
       "      <th></th>\n",
       "      <th></th>\n",
       "      <th></th>\n",
       "      <th></th>\n",
       "    </tr>\n",
       "  </thead>\n",
       "  <tbody>\n",
       "    <tr>\n",
       "      <th>2020-01-02 00:00:00-05:00</th>\n",
       "      <td>71.721019</td>\n",
       "      <td>72.776598</td>\n",
       "      <td>71.466812</td>\n",
       "      <td>72.716072</td>\n",
       "      <td>135480400</td>\n",
       "      <td>0.0</td>\n",
       "      <td>0.0</td>\n",
       "    </tr>\n",
       "    <tr>\n",
       "      <th>2020-01-03 00:00:00-05:00</th>\n",
       "      <td>71.941336</td>\n",
       "      <td>72.771752</td>\n",
       "      <td>71.783969</td>\n",
       "      <td>72.009125</td>\n",
       "      <td>146322800</td>\n",
       "      <td>0.0</td>\n",
       "      <td>0.0</td>\n",
       "    </tr>\n",
       "    <tr>\n",
       "      <th>2020-01-06 00:00:00-05:00</th>\n",
       "      <td>71.127866</td>\n",
       "      <td>72.621646</td>\n",
       "      <td>70.876075</td>\n",
       "      <td>72.582909</td>\n",
       "      <td>118387200</td>\n",
       "      <td>0.0</td>\n",
       "      <td>0.0</td>\n",
       "    </tr>\n",
       "  </tbody>\n",
       "</table>\n",
       "</div>"
      ],
      "text/plain": [
       "                                Open       High        Low      Close  \\\n",
       "Date                                                                    \n",
       "2020-01-02 00:00:00-05:00  71.721019  72.776598  71.466812  72.716072   \n",
       "2020-01-03 00:00:00-05:00  71.941336  72.771752  71.783969  72.009125   \n",
       "2020-01-06 00:00:00-05:00  71.127866  72.621646  70.876075  72.582909   \n",
       "\n",
       "                              Volume  Dividends  Stock Splits  \n",
       "Date                                                           \n",
       "2020-01-02 00:00:00-05:00  135480400        0.0           0.0  \n",
       "2020-01-03 00:00:00-05:00  146322800        0.0           0.0  \n",
       "2020-01-06 00:00:00-05:00  118387200        0.0           0.0  "
      ]
     },
     "execution_count": 13,
     "metadata": {},
     "output_type": "execute_result"
    }
   ],
   "source": [
    "df.head(3)"
   ]
  },
  {
   "cell_type": "code",
   "execution_count": 14,
   "metadata": {},
   "outputs": [],
   "source": [
    "# Invest라는 class 생성\n",
    "invest_class = invest.Invest(\n",
    "    df, _col = 'Close', _start = input_time\n",
    ")"
   ]
  },
  {
   "cell_type": "code",
   "execution_count": 15,
   "metadata": {},
   "outputs": [],
   "source": [
    "# 유저가 보낸 데이터 중 투자 방식\n",
    "input_type = 'boll'"
   ]
  },
  {
   "cell_type": "code",
   "execution_count": 16,
   "metadata": {},
   "outputs": [
    {
     "name": "stdout",
     "output_type": "stream",
     "text": [
      "시작 시간과 종료 시간의 포맷은 YYYY-mm-dddlek.\n"
     ]
    },
    {
     "ename": "AttributeError",
     "evalue": "'str' object has no attribute 'copy'",
     "output_type": "error",
     "traceback": [
      "\u001b[1;31m---------------------------------------------------------------------------\u001b[0m",
      "\u001b[1;31mAttributeError\u001b[0m                            Traceback (most recent call last)",
      "Cell \u001b[1;32mIn[16], line 4\u001b[0m\n\u001b[0;32m      2\u001b[0m     result \u001b[38;5;241m=\u001b[39m invest_class\u001b[38;5;241m.\u001b[39mbuyandhold()\n\u001b[0;32m      3\u001b[0m \u001b[38;5;28;01melif\u001b[39;00m input_type \u001b[38;5;241m==\u001b[39m \u001b[38;5;124m'\u001b[39m\u001b[38;5;124mboll\u001b[39m\u001b[38;5;124m'\u001b[39m:\n\u001b[1;32m----> 4\u001b[0m     result \u001b[38;5;241m=\u001b[39m invest_class\u001b[38;5;241m.\u001b[39mbollinger()\n\u001b[0;32m      5\u001b[0m \u001b[38;5;28;01melif\u001b[39;00m input_type \u001b[38;5;241m==\u001b[39m \u001b[38;5;124m'\u001b[39m\u001b[38;5;124mmmt\u001b[39m\u001b[38;5;124m'\u001b[39m:\n\u001b[0;32m      6\u001b[0m     result \u001b[38;5;241m=\u001b[39m invest_class\u001b[38;5;241m.\u001b[39mmomentum()\n",
      "File \u001b[1;32m~\\AppData\\Roaming\\Python\\Python311\\site-packages\\invest\\__init__.py:113\u001b[0m, in \u001b[0;36mInvest.bollinger\u001b[1;34m(self, _cnt)\u001b[0m\n\u001b[0;32m    107\u001b[0m band_df \u001b[38;5;241m=\u001b[39m boll\u001b[38;5;241m.\u001b[39mcreate_band(\u001b[38;5;28mself\u001b[39m\u001b[38;5;241m.\u001b[39mdf,\n\u001b[0;32m    108\u001b[0m                         _start\u001b[38;5;241m=\u001b[39m\u001b[38;5;28mself\u001b[39m\u001b[38;5;241m.\u001b[39mstart,\n\u001b[0;32m    109\u001b[0m                         _end\u001b[38;5;241m=\u001b[39m\u001b[38;5;28mself\u001b[39m\u001b[38;5;241m.\u001b[39mend,\n\u001b[0;32m    110\u001b[0m                         _col\u001b[38;5;241m=\u001b[39m\u001b[38;5;28mself\u001b[39m\u001b[38;5;241m.\u001b[39mcol,\n\u001b[0;32m    111\u001b[0m                         _cnt\u001b[38;5;241m=\u001b[39m_cnt)\n\u001b[0;32m    112\u001b[0m \u001b[38;5;66;03m# 거래 내역 함수\u001b[39;00m\n\u001b[1;32m--> 113\u001b[0m trade_df \u001b[38;5;241m=\u001b[39m boll\u001b[38;5;241m.\u001b[39mcreate_trade(band_df)\n\u001b[0;32m    114\u001b[0m \u001b[38;5;66;03m# 수익율 함수를 호출\u001b[39;00m\n\u001b[0;32m    115\u001b[0m result, acc_rtn \u001b[38;5;241m=\u001b[39m \u001b[38;5;28mself\u001b[39m\u001b[38;5;241m.\u001b[39mcreate_rtn(trade_df)\n",
      "File \u001b[1;32m~\\AppData\\Roaming\\Python\\Python311\\site-packages\\invest\\quant\\bollinger.py:60\u001b[0m, in \u001b[0;36mcreate_trade\u001b[1;34m(_df)\u001b[0m\n\u001b[0;32m     58\u001b[0m \u001b[38;5;28;01mdef\u001b[39;00m \u001b[38;5;21mcreate_trade\u001b[39m(_df):\n\u001b[0;32m     59\u001b[0m     \u001b[38;5;66;03m# 데이터프레임 복사\u001b[39;00m\n\u001b[1;32m---> 60\u001b[0m     result \u001b[38;5;241m=\u001b[39m _df\u001b[38;5;241m.\u001b[39mcopy()\n\u001b[0;32m     61\u001b[0m     \u001b[38;5;66;03m# 데이터프레임에서 첫 번째 컬럼의 이름을 변수(col)에 저장\u001b[39;00m\n\u001b[0;32m     62\u001b[0m     col \u001b[38;5;241m=\u001b[39m result\u001b[38;5;241m.\u001b[39mcolumns[\u001b[38;5;241m0\u001b[39m]\n",
      "\u001b[1;31mAttributeError\u001b[0m: 'str' object has no attribute 'copy'"
     ]
    }
   ],
   "source": [
    "if input_type == 'bnh':\n",
    "    result = invest_class.buyandhold()\n",
    "elif input_type == 'boll':\n",
    "    result = invest_class.bollinger()\n",
    "elif input_type == 'mmt':\n",
    "    result = invest_class.momentum()\n"
   ]
  },
  {
   "cell_type": "code",
   "execution_count": null,
   "metadata": {},
   "outputs": [],
   "source": [
    "result = result[['Date', 'Close', 'trade', 'rtn', 'acc_rtn']]\n",
    "result"
   ]
  },
  {
   "cell_type": "code",
   "execution_count": null,
   "metadata": {},
   "outputs": [],
   "source": [
    "# DataFrame을 [ {}, {} ]\n",
    "data = result.to_dict(orient='records')\n",
    "data"
   ]
  },
  {
   "cell_type": "code",
   "execution_count": null,
   "metadata": {},
   "outputs": [],
   "source": [
    "# 컬럼들의 리스트\n",
    "col_list = list(result.columns)\n",
    "col_list"
   ]
  },
  {
   "cell_type": "code",
   "execution_count": null,
   "metadata": {},
   "outputs": [],
   "source": [
    "# x축 데이터\n",
    "x_data = list(result['Date'])\n",
    "x_data"
   ]
  },
  {
   "cell_type": "code",
   "execution_count": null,
   "metadata": {},
   "outputs": [],
   "source": [
    "#rtn 데이터\n",
    "y_data = list(result['rtn'])\n",
    "y_data"
   ]
  },
  {
   "cell_type": "code",
   "execution_count": null,
   "metadata": {},
   "outputs": [],
   "source": [
    "# x축 데이터\n",
    "y2_data = list(result['acc_rtn'])"
   ]
  }
 ],
 "metadata": {
  "kernelspec": {
   "display_name": "base",
   "language": "python",
   "name": "python3"
  },
  "language_info": {
   "codemirror_mode": {
    "name": "ipython",
    "version": 3
   },
   "file_extension": ".py",
   "mimetype": "text/x-python",
   "name": "python",
   "nbconvert_exporter": "python",
   "pygments_lexer": "ipython3",
   "version": "3.11.11"
  }
 },
 "nbformat": 4,
 "nbformat_minor": 2
}
